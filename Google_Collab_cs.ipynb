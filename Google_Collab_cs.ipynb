{
  "nbformat": 4,
  "nbformat_minor": 0,
  "metadata": {
    "colab": {
      "provenance": [],
      "authorship_tag": "ABX9TyNfKwlSFOZ4hCygOpLvYI/q",
      "include_colab_link": true
    },
    "kernelspec": {
      "name": "python3",
      "display_name": "Python 3"
    },
    "language_info": {
      "name": "python"
    }
  },
  "cells": [
    {
      "cell_type": "markdown",
      "metadata": {
        "id": "view-in-github",
        "colab_type": "text"
      },
      "source": [
        "<a href=\"https://colab.research.google.com/github/valentinaradu/COP2360/blob/main/Google_Collab_cs.ipynb\" target=\"_parent\"><img src=\"https://colab.research.google.com/assets/colab-badge.svg\" alt=\"Open In Colab\"/></a>"
      ]
    },
    {
      "cell_type": "code",
      "execution_count": 10,
      "metadata": {
        "id": "_2i0QJza1iwh"
      },
      "outputs": [],
      "source": [
        "# Stack and Queue Implementation"
      ]
    },
    {
      "cell_type": "code",
      "source": [
        "class Stack:\n",
        "    def __init__(self):\n",
        "        self.items = []\n",
        "\n",
        "    def push(self, item):\n",
        "        self.items.append(item)\n",
        "\n",
        "    def pop(self):\n",
        "        if not self.is_empty():\n",
        "            return self.items.pop()\n",
        "        return None\n",
        "\n",
        "    def is_empty(self):\n",
        "        return len(self.items) == 0\n",
        "\n",
        "    def remove_value(self, value):\n",
        "        if value in self.items:\n",
        "            self.items.remove(value)\n",
        "\n",
        "    def remove_index(self, index):\n",
        "        if 0 <= index < len(self.items):\n",
        "            del self.items[index]\n",
        "\n",
        "# Create an empty Stack\n",
        "stack = Stack()\n",
        "\n",
        "# Add items to the Stack\n",
        "for item in [9, 4, 3, 5, 0, 1, 4, 7]:\n",
        "    stack.push(item)\n",
        "\n",
        "# Display the Stack\n",
        "print(\"Stack after adding items:\", stack.items)\n",
        "\n",
        "# Remove a specific value (e.g., remove '9')\n",
        "stack.remove_value(9)\n",
        "print(\"Stack after removing value '9':\", stack.items)\n",
        "\n",
        "# Remove an item based on index (e.g., remove index 4)\n",
        "stack.remove_index(4)\n",
        "print(\"Stack after removing item at index 4:\", stack.items)"
      ],
      "metadata": {
        "colab": {
          "base_uri": "https://localhost:8080/"
        },
        "id": "In22ndJc1vt-",
        "outputId": "e3ad6d24-a512-4d8f-cd6b-36967d12a18e"
      },
      "execution_count": 11,
      "outputs": [
        {
          "output_type": "stream",
          "name": "stdout",
          "text": [
            "Stack after adding items: [9, 4, 3, 5, 0, 1, 4, 7]\n",
            "Stack after removing value '9': [4, 3, 5, 0, 1, 4, 7]\n",
            "Stack after removing item at index 4: [4, 3, 5, 0, 4, 7]\n"
          ]
        }
      ]
    },
    {
      "cell_type": "code",
      "source": [
        "## Queue Implementation"
      ],
      "metadata": {
        "id": "X3ITNldv15Fo"
      },
      "execution_count": 12,
      "outputs": []
    },
    {
      "cell_type": "code",
      "source": [
        "from collections import deque\n",
        "\n",
        "class Queue:\n",
        "    def __init__(self):\n",
        "        self.items = deque()\n",
        "\n",
        "    def enqueue(self, item):\n",
        "        self.items.append(item)\n",
        "\n",
        "    def dequeue(self):\n",
        "        if not self.is_empty():\n",
        "            return self.items.popleft()\n",
        "        return None\n",
        "\n",
        "    def is_empty(self):\n",
        "        return len(self.items) == 0\n",
        "\n",
        "    def remove_value(self, value):\n",
        "        if value in self.items:\n",
        "            self.items.remove(value)\n",
        "\n",
        "# Create an empty Queue\n",
        "queue = Queue()\n",
        "\n",
        "# Add items to the Queue\n",
        "for item in [9, 4, 3, 5, 0, 1, 4, 7]:\n",
        "    queue.enqueue(item)\n",
        "\n",
        "# Display the Queue\n",
        "print(\"Queue after adding items:\", list(queue.items))\n",
        "\n",
        "# Remove a specific value (e.g., remove '9')\n",
        "queue.remove_value(9)\n",
        "print(\"Queue after removing value '9':\", list(queue.items))"
      ],
      "metadata": {
        "colab": {
          "base_uri": "https://localhost:8080/"
        },
        "id": "kdotzj3L1_AD",
        "outputId": "e83a4cbb-43f6-43e3-9379-44fd3215b8b6"
      },
      "execution_count": 13,
      "outputs": [
        {
          "output_type": "stream",
          "name": "stdout",
          "text": [
            "Queue after adding items: [9, 4, 3, 5, 0, 1, 4, 7]\n",
            "Queue after removing value '9': [4, 3, 5, 0, 1, 4, 7]\n"
          ]
        }
      ]
    },
    {
      "cell_type": "code",
      "source": [
        "## Final Notes"
      ],
      "metadata": {
        "id": "fUTAqsD72DUO"
      },
      "execution_count": 14,
      "outputs": []
    }
  ]
}